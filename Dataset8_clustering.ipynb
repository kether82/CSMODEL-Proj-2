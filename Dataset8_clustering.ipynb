{
 "cells": [
  {
   "cell_type": "markdown",
   "source": [],
   "metadata": {}
  },
  {
   "cell_type": "markdown",
   "source": [
    "## Import\r\n",
    "Import **pandas** and **matplotlib**."
   ],
   "metadata": {}
  },
  {
   "cell_type": "code",
   "execution_count": null,
   "source": [
    "import numpy as np\r\n",
    "import pandas as pd\r\n",
    "import matplotlib.pyplot as plt\r\n",
    "\r\n",
    "%load_ext autoreload\r\n",
    "%autoreload 2"
   ],
   "outputs": [],
   "metadata": {}
  },
  {
   "cell_type": "markdown",
   "source": [
    "## Creating Clusters in Dataset 8 using k-Means Algorithm"
   ],
   "metadata": {}
  },
  {
   "cell_type": "markdown",
   "source": [
    "Import the `KMeans` class."
   ],
   "metadata": {}
  },
  {
   "cell_type": "code",
   "execution_count": null,
   "source": [
    "from kmeans import KMeans_py"
   ],
   "outputs": [],
   "metadata": {}
  },
  {
   "cell_type": "markdown",
   "source": [
    "## Dataset 8\r\n",
    "We will work on a dataset called `iris dataset`. This dataset includes three iris species with 50 samples each as well as some properties about each plant. One plant species is linearly separable from the other two, but the other two are not linearly separable from each other.\r\n",
    "\r\n",
    "The dataset is provided to you as a `.csv` file. `.csv` means comma-separated values. You can open the file in Notepad to see how it is exactly formatted."
   ],
   "metadata": {}
  },
  {
   "cell_type": "markdown",
   "source": [
    "If you view the `.csv` file in Excel, you can see that our dataset contains 150 **observations** (rows) across 6 **variables** (columns). The following are the descriptions of each variable in the dataset.\r\n",
    "\r\n",
    "- **`Id`**: Identifier.\r\n",
    "- **`SepalLengthCm`**: Sepal length in centimeters\r\n",
    "- **`SepalWidthCm`**: Sepal width in centimeters\r\n",
    "- **`PetalLengthCm`**: Petal length in centimeters\r\n",
    "- **`PetalWidthCm`**: Petal width in centimeters\r\n",
    "- **`Species`**: Species of iris - `Iris-setosa`; `Iris-versicolor`; `Iris-virginica`"
   ],
   "metadata": {}
  },
  {
   "cell_type": "markdown",
   "source": [
    "Let us read the dataset."
   ],
   "metadata": {}
  },
  {
   "cell_type": "code",
   "execution_count": null,
   "source": [
    "dataset_df = pd.read_csv('Dataset8.csv')"
   ],
   "outputs": [],
   "metadata": {}
  },
  {
   "cell_type": "markdown",
   "source": [
    "Let us display the general `info` of the dataset"
   ],
   "metadata": {}
  },
  {
   "cell_type": "code",
   "execution_count": null,
   "source": [
    "dataset_df.info()"
   ],
   "outputs": [],
   "metadata": {}
  },
  {
   "cell_type": "markdown",
   "source": [
    "Let us proceed to finding the number of observation per group prior to clustering"
   ],
   "metadata": {}
  },
  {
   "cell_type": "code",
   "execution_count": null,
   "source": [
    "print(\"Class 1 : \" , dataset_df.loc[dataset_df['class'] == 0].count().loc['class'])\r\n",
    "print(\"Class 2 : \" , dataset_df.loc[dataset_df['class'] == 1].count().loc['class'])\r\n",
    "print(\"Class 3 : \" , dataset_df.loc[dataset_df['class'] == 2].count().loc['class'])"
   ],
   "outputs": [],
   "metadata": {}
  },
  {
   "cell_type": "code",
   "execution_count": null,
   "source": [
    "# Import required packages\r\n",
    "from sklearn.cluster import KMeans\r\n",
    "sse = []\r\n",
    "list_k = range(1,10)\r\n",
    "for k in list_k:\r\n",
    "    km = KMeans(n_clusters = k)\r\n",
    "    km = km.fit(dataset_df)\r\n",
    "    sse.append(km.inertia_)\r\n",
    "\r\n",
    "# plt.plot(list_k, sse, 'bx-')\r\n",
    "plt.xlabel('k')\r\n",
    "plt.ylabel('Sum_of_squared_distances')\r\n",
    "plt.title('Elbow Method For Optimal k')\r\n",
    "plt.show()\r\n"
   ],
   "outputs": [],
   "metadata": {}
  },
  {
   "cell_type": "markdown",
   "source": [
    "Instantiate a `KMeans` object with `k` equal to `3`, `start_var` equal to `1`, `end_var` equal to `5`, `num_observations` equal to `150`, and `data` equal to the `DataFrame` object which represents the iris dataset. "
   ],
   "metadata": {}
  },
  {
   "cell_type": "code",
   "execution_count": null,
   "source": [
    "kmeans = KMeans(3, 1, 11, 900, dataset_df)"
   ],
   "outputs": [],
   "metadata": {}
  },
  {
   "cell_type": "markdown",
   "source": [
    "Initialize the centroids."
   ],
   "metadata": {}
  },
  {
   "cell_type": "code",
   "execution_count": null,
   "source": [
    "kmeans.initialize_centroids(dataset_df)"
   ],
   "outputs": [],
   "metadata": {}
  },
  {
   "cell_type": "markdown",
   "source": [
    "Cluster the dataset."
   ],
   "metadata": {}
  },
  {
   "cell_type": "code",
   "execution_count": null,
   "source": [
    "groups = kmeans.train(dataset_df, 300)"
   ],
   "outputs": [],
   "metadata": {}
  },
  {
   "cell_type": "code",
   "execution_count": null,
   "source": [
    "cluster_0 = dataset_df.loc[groups == 0]\r\n",
    "cluster_1 = dataset_df.loc[groups == 1]\r\n",
    "cluster_2 = dataset_df.loc[groups == 2]\r\n",
    "\r\n",
    "# print(cluster_0.loc[cluster_0['class'] == 0])\r\n",
    "print('Number of data points in each cluster:')\r\n",
    "print('Cluster 0:')\r\n",
    "print('Class 0:\\t', cluster_0.loc[cluster_0['class'] == 0].shape[0])\r\n",
    "print('Class 1:\\t', cluster_0.loc[cluster_0['class'] == 1].shape[0])\r\n",
    "print('Class 2:\\t', cluster_0.loc[cluster_0['class'] == 2].shape[0])\r\n",
    "print('Cluster 1:')\r\n",
    "print('Class 0:\\t', cluster_1.loc[cluster_1['class'] == 0].shape[0])\r\n",
    "print('Class 1:\\t', cluster_1.loc[cluster_1['class'] == 1].shape[0])\r\n",
    "print('Class 2:\\t', cluster_1.loc[cluster_1['class'] == 2].shape[0])\r\n",
    "print('Cluster 2:')\r\n",
    "print('Class 0:\\t', cluster_2.loc[cluster_2['class'] == 0].shape[0])\r\n",
    "print('Class 1:\\t', cluster_2.loc[cluster_2['class'] == 1].shape[0])\r\n",
    "print('Class 2:\\t', cluster_2.loc[cluster_2['class'] == 2].shape[0])"
   ],
   "outputs": [],
   "metadata": {}
  },
  {
   "cell_type": "code",
   "execution_count": null,
   "source": [
    "# syn_new_df = pd.concat([syn_df.iloc[:, 0:2], groups.rename('group')], axis=1)\r\n",
    "# dataset_new_df = pd.concat([dataset_df.iloc[:, 1:11], groups.rename('group')], axis=1)\r\n",
    "# print(dataset_new_df.head(3))\r\n",
    "\r\n",
    "# print(syn_new_df.head(5))\r\n",
    "# fig, axs = plt.subplots(1, 2, figsize=(10,5))\r\n",
    "# fig, axs = plt.subplots(1, 2, figsize=(10,5))\r\n",
    "# axs[0].plot(syn_df.loc[syn_df['class'] == 0, 'x'], syn_df.loc[syn_df['class'] == 0, 'y'], 'r+')\r\n",
    "# axs[0].plot(syn_df.loc[syn_df['class'] == 1, 'x'], syn_df.loc[syn_df['class'] == 1, 'y'], 'g+')\r\n",
    "# axs[0].plot(syn_df.loc[syn_df['class'] == 2, 'x'], syn_df.loc[syn_df['class'] == 2, 'y'], 'b+')\r\n",
    "# axs[0].plot(dataset_df.loc[dataset_df['class'] == 0, 'x'], dataset_df.loc[dataset_df['class'] == 0, 'y'], 'r+')\r\n",
    "# axs[0].plot(dataset_df.loc[dataset_df['class'] == 1, 'x'], dataset_df.loc[dataset_df['class'] == 1, 'y'], 'r+')\r\n",
    "# axs[0].plot(dataset_df.loc[dataset_df['class'] == 2, 'x'], dataset_df.loc[dataset_df['class'] == 2, 'y'], 'r+')\r\n",
    "\r\n",
    "# axs[1].plot(syn_new_df.loc[syn_new_df['group'] == 0, 'x'], syn_new_df.loc[syn_new_df['group'] == 0, 'y'], 'r+')\r\n",
    "# axs[1].plot(syn_new_df.loc[syn_new_df['group'] == 1, 'x'], syn_new_df.loc[syn_new_df['group'] == 1, 'y'], 'g+')\r\n",
    "# axs[1].plot(syn_new_df.loc[syn_new_df['group'] == 2, 'x'], syn_new_df.loc[syn_new_df['group'] == 2, 'y'], 'b+')\r\n",
    "\r\n",
    "# for i in range(len(kmeans.centroids)):\r\n",
    "#     axs[1].plot(kmeans.centroids.iloc[i]['x'], kmeans.centroids.iloc[i]['y'], 'k*', ms=12)\r\n",
    "\r\n",
    "# axs[0].grid()\r\n",
    "# axs[1].grid()"
   ],
   "outputs": [],
   "metadata": {}
  },
  {
   "cell_type": "code",
   "execution_count": null,
   "source": [
    "kmeans = KMeans(4, 1, 11, 900, dataset_df)\r\n",
    "kmeans.initialize_centroids(dataset_df)\r\n",
    "groups = kmeans.train(dataset_df, 300)\r\n",
    "cluster_0 = dataset_df.loc[groups == 0]\r\n",
    "cluster_1 = dataset_df.loc[groups == 1]\r\n",
    "cluster_2 = dataset_df.loc[groups == 2]\r\n",
    "cluster_3 = dataset_df.loc[groups == 3]\r\n",
    "\r\n",
    "# print(cluster_0.loc[cluster_0['class'] == 0])\r\n",
    "print('Number of data points in each cluster:')\r\n",
    "print('Cluster 0:')\r\n",
    "print('Class 0:\\t', cluster_0.loc[cluster_0['class'] == 0].shape[0])\r\n",
    "print('Class 1:\\t', cluster_0.loc[cluster_0['class'] == 1].shape[0])\r\n",
    "print('Class 2:\\t', cluster_0.loc[cluster_0['class'] == 2].shape[0])\r\n",
    "print('Cluster 1:')\r\n",
    "print('Class 0:\\t', cluster_1.loc[cluster_1['class'] == 0].shape[0])\r\n",
    "print('Class 1:\\t', cluster_1.loc[cluster_1['class'] == 1].shape[0])\r\n",
    "print('Class 2:\\t', cluster_1.loc[cluster_1['class'] == 2].shape[0])\r\n",
    "print('Cluster 2:')\r\n",
    "print('Class 0:\\t', cluster_2.loc[cluster_2['class'] == 0].shape[0])\r\n",
    "print('Class 1:\\t', cluster_2.loc[cluster_2['class'] == 1].shape[0])\r\n",
    "print('Class 2:\\t', cluster_2.loc[cluster_2['class'] == 2].shape[0])\r\n",
    "print('Cluster 3:')\r\n",
    "print('Class 0:\\t', cluster_3.loc[cluster_3['class'] == 0].shape[0])\r\n",
    "print('Class 1:\\t', cluster_3.loc[cluster_3['class'] == 1].shape[0])\r\n",
    "print('Class 2:\\t', cluster_3.loc[cluster_3['class'] == 2].shape[0])\r\n"
   ],
   "outputs": [],
   "metadata": {}
  },
  {
   "cell_type": "code",
   "execution_count": null,
   "source": [
    "kmeans = KMeans(8, 1, 11, 900, dataset_df)\r\n",
    "kmeans.initialize_centroids(dataset_df)\r\n",
    "groups = kmeans.train(dataset_df, 300)\r\n",
    "cluster_0 = dataset_df.loc[groups == 0]\r\n",
    "cluster_1 = dataset_df.loc[groups == 1]\r\n",
    "cluster_2 = dataset_df.loc[groups == 2]\r\n",
    "cluster_3 = dataset_df.loc[groups == 3]\r\n",
    "cluster_4 = dataset_df.loc[groups == 4]\r\n",
    "cluster_5 = dataset_df.loc[groups == 5]\r\n",
    "cluster_6 = dataset_df.loc[groups == 6]\r\n",
    "cluster_7 = dataset_df.loc[groups == 7]\r\n",
    "\r\n",
    "# print(cluster_0.loc[cluster_0['class'] == 0])\r\n",
    "print('Number of data points in each cluster:')\r\n",
    "print('Cluster 0:')\r\n",
    "print('Class 0:\\t', cluster_0.loc[cluster_0['class'] == 0].shape[0])\r\n",
    "print('Class 1:\\t', cluster_0.loc[cluster_0['class'] == 1].shape[0])\r\n",
    "print('Class 2:\\t', cluster_0.loc[cluster_0['class'] == 2].shape[0])\r\n",
    "print('Cluster 1:')\r\n",
    "print('Class 0:\\t', cluster_1.loc[cluster_1['class'] == 0].shape[0])\r\n",
    "print('Class 1:\\t', cluster_1.loc[cluster_1['class'] == 1].shape[0])\r\n",
    "print('Class 2:\\t', cluster_1.loc[cluster_1['class'] == 2].shape[0])\r\n",
    "print('Cluster 2:')\r\n",
    "print('Class 0:\\t', cluster_2.loc[cluster_2['class'] == 0].shape[0])\r\n",
    "print('Class 1:\\t', cluster_2.loc[cluster_2['class'] == 1].shape[0])\r\n",
    "print('Class 2:\\t', cluster_2.loc[cluster_2['class'] == 2].shape[0])\r\n",
    "print('Cluster 3:')\r\n",
    "print('Class 0:\\t', cluster_3.loc[cluster_3['class'] == 0].shape[0])\r\n",
    "print('Class 1:\\t', cluster_3.loc[cluster_3['class'] == 1].shape[0])\r\n",
    "print('Class 2:\\t', cluster_3.loc[cluster_3['class'] == 2].shape[0])\r\n",
    "print('Cluster 4:')\r\n",
    "print('Class 0:\\t', cluster_4.loc[cluster_4['class'] == 0].shape[0])\r\n",
    "print('Class 1:\\t', cluster_4.loc[cluster_4['class'] == 1].shape[0])\r\n",
    "print('Class 2:\\t', cluster_4.loc[cluster_4['class'] == 2].shape[0])\r\n",
    "print('Cluster 5:')\r\n",
    "print('Class 0:\\t', cluster_5.loc[cluster_5['class'] == 0].shape[0])\r\n",
    "print('Class 1:\\t', cluster_5.loc[cluster_5['class'] == 1].shape[0])\r\n",
    "print('Class 2:\\t', cluster_5.loc[cluster_5['class'] == 2].shape[0])\r\n",
    "print('Cluster 6:')\r\n",
    "print('Class 0:\\t', cluster_6.loc[cluster_6['class'] == 0].shape[0])\r\n",
    "print('Class 1:\\t', cluster_6.loc[cluster_6['class'] == 1].shape[0])\r\n",
    "print('Class 2:\\t', cluster_6.loc[cluster_6['class'] == 2].shape[0])\r\n",
    "print('Cluster 7:')\r\n",
    "print('Class 0:\\t', cluster_7.loc[cluster_7['class'] == 0].shape[0])\r\n",
    "print('Class 1:\\t', cluster_7.loc[cluster_7['class'] == 1].shape[0])\r\n",
    "print('Class 2:\\t', cluster_7.loc[cluster_7['class'] == 2].shape[0])"
   ],
   "outputs": [],
   "metadata": {}
  },
  {
   "cell_type": "code",
   "execution_count": null,
   "source": [],
   "outputs": [],
   "metadata": {}
  }
 ],
 "metadata": {
  "kernelspec": {
   "name": "python3",
   "display_name": "Python 3.8.8 64-bit ('base': conda)"
  },
  "language_info": {
   "codemirror_mode": {
    "name": "ipython",
    "version": 3
   },
   "file_extension": ".py",
   "mimetype": "text/x-python",
   "name": "python",
   "nbconvert_exporter": "python",
   "pygments_lexer": "ipython3",
   "version": "3.8.8"
  },
  "interpreter": {
   "hash": "96eb50e1d44aed467dc8f759cb08c32fbfa9babcf79c554e2d0e5feb04653a10"
  }
 },
 "nbformat": 4,
 "nbformat_minor": 4
}