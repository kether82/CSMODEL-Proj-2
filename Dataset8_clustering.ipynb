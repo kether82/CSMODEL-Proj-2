{
 "cells": [
  {
   "cell_type": "markdown",
   "source": [],
   "metadata": {}
  },
  {
   "cell_type": "markdown",
   "source": [
    "## Import\n",
    "Import **pandas** and **matplotlib**."
   ],
   "metadata": {}
  },
  {
   "cell_type": "code",
   "execution_count": 4,
   "source": [
    "import numpy as np\r\n",
    "import pandas as pd\r\n",
    "import matplotlib.pyplot as plt\r\n",
    "\r\n",
    "%load_ext autoreload\r\n",
    "%autoreload 2"
   ],
   "outputs": [],
   "metadata": {}
  },
  {
   "cell_type": "markdown",
   "source": [
    "## Creating Clusters in the Synthetic Dataset using k-Means Algorithm\n",
    "Open `kmeans.py` file. Some of the functions in the `KMeans` class are not yet implemented. We will implement the missing parts of this class."
   ],
   "metadata": {}
  },
  {
   "cell_type": "markdown",
   "source": [
    "Import the `KMeans` class."
   ],
   "metadata": {}
  },
  {
   "cell_type": "code",
   "execution_count": 5,
   "source": [
    "from kmeans import KMeans"
   ],
   "outputs": [],
   "metadata": {}
  },
  {
   "cell_type": "markdown",
   "source": [
    "## Dataset 8\r\n",
    "For this notebook, we will work on a dataset called `iris dataset`. This dataset includes three iris species with 50 samples each as well as some properties about each plant. One plant species is linearly separable from the other two, but the other two are not linearly separable from each other.\r\n",
    "\r\n",
    "The dataset is provided to you as a `.csv` file. `.csv` means comma-separated values. You can open the file in Notepad to see how it is exactly formatted."
   ],
   "metadata": {}
  },
  {
   "cell_type": "markdown",
   "source": [
    "If you view the `.csv` file in Excel, you can see that our dataset contains 150 **observations** (rows) across 6 **variables** (columns). The following are the descriptions of each variable in the dataset.\n",
    "\n",
    "- **`Id`**: Identifier.\n",
    "- **`SepalLengthCm`**: Sepal length in centimeters\n",
    "- **`SepalWidthCm`**: Sepal width in centimeters\n",
    "- **`PetalLengthCm`**: Petal length in centimeters\n",
    "- **`PetalWidthCm`**: Petal width in centimeters\n",
    "- **`Species`**: Species of iris - `Iris-setosa`; `Iris-versicolor`; `Iris-virginica`"
   ],
   "metadata": {}
  },
  {
   "cell_type": "markdown",
   "source": [
    "Let's read the dataset."
   ],
   "metadata": {}
  },
  {
   "cell_type": "code",
   "execution_count": 6,
   "source": [
    "dataset_df = pd.read_csv('Dataset8.csv')"
   ],
   "outputs": [],
   "metadata": {}
  },
  {
   "cell_type": "markdown",
   "source": [
    "Whenever we load a new dataset, it is generally a good idea to call the [`info`](https://pandas.pydata.org/pandas-docs/stable/reference/api/pandas.DataFrame.info.html) function, which displays general information about the dataset."
   ],
   "metadata": {}
  },
  {
   "cell_type": "code",
   "execution_count": 7,
   "source": [
    "dataset_df.info()"
   ],
   "outputs": [
    {
     "output_type": "stream",
     "name": "stdout",
     "text": [
      "<class 'pandas.core.frame.DataFrame'>\n",
      "RangeIndex: 900 entries, 0 to 899\n",
      "Data columns (total 12 columns):\n",
      " #   Column      Non-Null Count  Dtype  \n",
      "---  ------      --------------  -----  \n",
      " 0   Unnamed: 0  900 non-null    int64  \n",
      " 1   f1          900 non-null    float64\n",
      " 2   f2          900 non-null    float64\n",
      " 3   f3          900 non-null    float64\n",
      " 4   f4          900 non-null    float64\n",
      " 5   f5          900 non-null    float64\n",
      " 6   f6          900 non-null    float64\n",
      " 7   f7          900 non-null    float64\n",
      " 8   f8          900 non-null    float64\n",
      " 9   f9          900 non-null    float64\n",
      " 10  f10         900 non-null    float64\n",
      " 11  class       900 non-null    int64  \n",
      "dtypes: float64(10), int64(2)\n",
      "memory usage: 84.5 KB\n"
     ]
    }
   ],
   "metadata": {}
  },
  {
   "cell_type": "markdown",
   "source": [
    "Instantiate a `KMeans` object with `k` equal to `3`, `start_var` equal to `1`, `end_var` equal to `5`, `num_observations` equal to `150`, and `data` equal to the `DataFrame` object which represents the iris dataset. "
   ],
   "metadata": {}
  },
  {
   "cell_type": "code",
   "execution_count": 8,
   "source": [
    "kmeans = KMeans(3, 1, 11, 900, dataset_df)"
   ],
   "outputs": [],
   "metadata": {}
  },
  {
   "cell_type": "markdown",
   "source": [
    "Initialize the centroids."
   ],
   "metadata": {}
  },
  {
   "cell_type": "code",
   "execution_count": 9,
   "source": [
    "kmeans.initialize_centroids(dataset_df)"
   ],
   "outputs": [
    {
     "output_type": "execute_result",
     "data": {
      "text/plain": [
       "         f1         f2         f3         f4         f5         f6         f7  \\\n",
       "0 -5.710850  15.094523  10.923855  38.565110  33.292183  57.282370  54.949177   \n",
       "1 -4.267853 -16.263877  33.946826  32.118864  60.628451  50.805646  67.131122   \n",
       "2 -0.846899  13.283446  29.694957  29.343965  63.831882  42.928793  81.862522   \n",
       "\n",
       "          f8         f9         f10  \n",
       "0  65.369141  84.635297   86.999744  \n",
       "1  78.154488  65.519522   91.300920  \n",
       "2  53.293976  96.324544  101.543847  "
      ],
      "text/html": [
       "<div>\n",
       "<style scoped>\n",
       "    .dataframe tbody tr th:only-of-type {\n",
       "        vertical-align: middle;\n",
       "    }\n",
       "\n",
       "    .dataframe tbody tr th {\n",
       "        vertical-align: top;\n",
       "    }\n",
       "\n",
       "    .dataframe thead th {\n",
       "        text-align: right;\n",
       "    }\n",
       "</style>\n",
       "<table border=\"1\" class=\"dataframe\">\n",
       "  <thead>\n",
       "    <tr style=\"text-align: right;\">\n",
       "      <th></th>\n",
       "      <th>f1</th>\n",
       "      <th>f2</th>\n",
       "      <th>f3</th>\n",
       "      <th>f4</th>\n",
       "      <th>f5</th>\n",
       "      <th>f6</th>\n",
       "      <th>f7</th>\n",
       "      <th>f8</th>\n",
       "      <th>f9</th>\n",
       "      <th>f10</th>\n",
       "    </tr>\n",
       "  </thead>\n",
       "  <tbody>\n",
       "    <tr>\n",
       "      <th>0</th>\n",
       "      <td>-5.710850</td>\n",
       "      <td>15.094523</td>\n",
       "      <td>10.923855</td>\n",
       "      <td>38.565110</td>\n",
       "      <td>33.292183</td>\n",
       "      <td>57.282370</td>\n",
       "      <td>54.949177</td>\n",
       "      <td>65.369141</td>\n",
       "      <td>84.635297</td>\n",
       "      <td>86.999744</td>\n",
       "    </tr>\n",
       "    <tr>\n",
       "      <th>1</th>\n",
       "      <td>-4.267853</td>\n",
       "      <td>-16.263877</td>\n",
       "      <td>33.946826</td>\n",
       "      <td>32.118864</td>\n",
       "      <td>60.628451</td>\n",
       "      <td>50.805646</td>\n",
       "      <td>67.131122</td>\n",
       "      <td>78.154488</td>\n",
       "      <td>65.519522</td>\n",
       "      <td>91.300920</td>\n",
       "    </tr>\n",
       "    <tr>\n",
       "      <th>2</th>\n",
       "      <td>-0.846899</td>\n",
       "      <td>13.283446</td>\n",
       "      <td>29.694957</td>\n",
       "      <td>29.343965</td>\n",
       "      <td>63.831882</td>\n",
       "      <td>42.928793</td>\n",
       "      <td>81.862522</td>\n",
       "      <td>53.293976</td>\n",
       "      <td>96.324544</td>\n",
       "      <td>101.543847</td>\n",
       "    </tr>\n",
       "  </tbody>\n",
       "</table>\n",
       "</div>"
      ]
     },
     "metadata": {},
     "execution_count": 9
    }
   ],
   "metadata": {}
  },
  {
   "cell_type": "markdown",
   "source": [
    "Cluster the dataset."
   ],
   "metadata": {}
  },
  {
   "cell_type": "code",
   "execution_count": 10,
   "source": [
    "groups = kmeans.train(dataset_df, 300)"
   ],
   "outputs": [
    {
     "output_type": "stream",
     "name": "stdout",
     "text": [
      "Iteration 1\n",
      "Iteration 2\n",
      "Iteration 3\n",
      "Iteration 4\n",
      "Iteration 5\n",
      "Iteration 6\n",
      "Iteration 7\n",
      "Iteration 8\n",
      "Iteration 9\n",
      "Iteration 10\n",
      "Iteration 11\n",
      "Iteration 12\n",
      "Iteration 13\n",
      "Iteration 14\n",
      "Iteration 15\n",
      "Iteration 16\n",
      "Iteration 17\n",
      "Iteration 18\n",
      "Iteration 19\n",
      "Iteration 20\n",
      "Iteration 21\n",
      "Iteration 22\n",
      "Iteration 23\n",
      "Iteration 24\n",
      "Iteration 25\n",
      "Iteration 26\n",
      "Iteration 27\n",
      "Iteration 28\n",
      "Iteration 29\n",
      "Iteration 30\n",
      "Iteration 31\n",
      "Done clustering!\n"
     ]
    }
   ],
   "metadata": {}
  },
  {
   "cell_type": "markdown",
   "source": [
    "Check the number of  per class in each cluster. Answer the questions below."
   ],
   "metadata": {}
  },
  {
   "cell_type": "code",
   "execution_count": 13,
   "source": [
    "dataset_df"
   ],
   "outputs": [
    {
     "output_type": "execute_result",
     "data": {
      "text/plain": [
       "array([0, 1, 2], dtype=int64)"
      ]
     },
     "metadata": {},
     "execution_count": 13
    }
   ],
   "metadata": {}
  },
  {
   "cell_type": "code",
   "execution_count": 21,
   "source": [
    "cluster_0 = dataset_df.loc[groups == 0]\r\n",
    "cluster_1 = dataset_df.loc[groups == 1]\r\n",
    "cluster_2 = dataset_df.loc[groups == 2]\r\n",
    "\r\n",
    "print(cluster_0.loc[cluster_0['class'] == 0])\r\n",
    "print('Number of data points in each cluster:')\r\n",
    "print('Cluster 0:')\r\n",
    "print('Class 0:\\t', cluster_0.loc[cluster_0['class'] == 0].shape[0])\r\n",
    "print('Class 1:\\t', cluster_0.loc[cluster_0['class'] == 1].shape[0])\r\n",
    "print('Class 2:\\t', cluster_0.loc[cluster_0['class'] == 2].shape[0])\r\n",
    "print('Cluster 1:')\r\n",
    "print('Class 0:\\t', cluster_1.loc[cluster_1['class'] == 0].shape[0])\r\n",
    "print('Class 1:\\t', cluster_1.loc[cluster_1['class'] == 1].shape[0])\r\n",
    "print('Class 2:\\t', cluster_1.loc[cluster_1['class'] == 2].shape[0])\r\n",
    "print('Cluster 2:')\r\n",
    "print('Class 0:\\t', cluster_2.loc[cluster_2['class'] == 0].shape[0])\r\n",
    "print('Class 1:\\t', cluster_2.loc[cluster_2['class'] == 1].shape[0])\r\n",
    "print('Class 2:\\t', cluster_2.loc[cluster_2['class'] == 2].shape[0])"
   ],
   "outputs": [
    {
     "output_type": "stream",
     "name": "stdout",
     "text": [
      "     Unnamed: 0         f1         f2         f3         f4         f5  \\\n",
      "1             1  -5.451407  24.126971  21.398380  36.928816  28.886724   \n",
      "2             2   1.939516   8.613466  15.468965  37.749287  39.346290   \n",
      "3             3 -13.605885  16.107486  20.186186  33.162006  30.406046   \n",
      "4             4   6.025143  17.815497  13.296819  38.290870  40.021019   \n",
      "5             5 -12.277771  14.140850  13.656782  33.016452  39.331827   \n",
      "..          ...        ...        ...        ...        ...        ...   \n",
      "286         286  -9.251580  17.874114  14.933038  36.581572  41.827065   \n",
      "291         291   1.145308   4.128104  18.479135  26.517957  32.049883   \n",
      "294         294   4.856792   9.183635  18.474114  41.507072  29.664412   \n",
      "296         296  -4.972477  19.713641  24.089985  36.790919  39.918319   \n",
      "299         299 -20.839971 -15.240110  19.762379  39.668911  25.479082   \n",
      "\n",
      "            f6         f7         f8         f9         f10  class  \n",
      "1    39.590812  43.296796  62.154686  93.538040   83.944351      0  \n",
      "2    46.562588  54.218791  75.536331  76.705473   89.201376      0  \n",
      "3    42.297489  49.609650  69.008804  71.108764   99.795289      0  \n",
      "4    52.349090  54.379178  73.885510  77.734334   89.372971      0  \n",
      "5    50.924850  69.314674  66.294054  78.119539  100.944785      0  \n",
      "..         ...        ...        ...        ...         ...    ...  \n",
      "286  56.160007  57.012310  63.931163  80.368897  101.626008      0  \n",
      "291  48.081353  55.299302  65.135512  71.758007   93.083774      0  \n",
      "294  54.124319  51.319492  74.358537  71.252323   89.556940      0  \n",
      "296  58.292889  56.971601  75.363447  76.559668   81.166877      0  \n",
      "299  49.848253  58.172438  79.490695  89.495674   95.019377      0  \n",
      "\n",
      "[106 rows x 12 columns]\n",
      "Number of data points in each cluster:\n",
      "Cluster 0:\n",
      "Class 0:\t 106\n",
      "Class 1:\t 87\n",
      "Class 2:\t 98\n"
     ]
    }
   ],
   "metadata": {}
  },
  {
   "cell_type": "code",
   "execution_count": null,
   "source": [],
   "outputs": [],
   "metadata": {}
  }
 ],
 "metadata": {
  "kernelspec": {
   "name": "python3",
   "display_name": "Python 3.8.8 64-bit ('base': conda)"
  },
  "language_info": {
   "codemirror_mode": {
    "name": "ipython",
    "version": 3
   },
   "file_extension": ".py",
   "mimetype": "text/x-python",
   "name": "python",
   "nbconvert_exporter": "python",
   "pygments_lexer": "ipython3",
   "version": "3.8.8"
  },
  "interpreter": {
   "hash": "96eb50e1d44aed467dc8f759cb08c32fbfa9babcf79c554e2d0e5feb04653a10"
  }
 },
 "nbformat": 4,
 "nbformat_minor": 4
}